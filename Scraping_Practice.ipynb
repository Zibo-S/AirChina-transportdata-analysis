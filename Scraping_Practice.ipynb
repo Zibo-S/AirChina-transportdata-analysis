{
 "cells": [
  {
   "cell_type": "code",
   "execution_count": 8,
   "id": "d08c00fb-07db-4d40-9670-6213ce48f68f",
   "metadata": {
    "collapsed": true,
    "jupyter": {
     "outputs_hidden": true
    },
    "tags": []
   },
   "outputs": [
    {
     "name": "stderr",
     "output_type": "stream",
     "text": [
      "\n",
      "Attaching package: ‘dplyr’\n",
      "\n",
      "\n",
      "The following objects are masked from ‘package:stats’:\n",
      "\n",
      "    filter, lag\n",
      "\n",
      "\n",
      "The following objects are masked from ‘package:base’:\n",
      "\n",
      "    intersect, setdiff, setequal, union\n",
      "\n",
      "\n",
      "── \u001b[1mAttaching packages\u001b[22m ─────────────────────────────────────── tidyverse 1.3.1 ──\n",
      "\n",
      "\u001b[32m✔\u001b[39m \u001b[34mggplot2\u001b[39m 3.3.5     \u001b[32m✔\u001b[39m \u001b[34mpurrr  \u001b[39m 0.3.4\n",
      "\u001b[32m✔\u001b[39m \u001b[34mtibble \u001b[39m 3.1.4     \u001b[32m✔\u001b[39m \u001b[34mstringr\u001b[39m 1.4.0\n",
      "\u001b[32m✔\u001b[39m \u001b[34mtidyr  \u001b[39m 1.1.3     \u001b[32m✔\u001b[39m \u001b[34mforcats\u001b[39m 0.5.1\n",
      "\u001b[32m✔\u001b[39m \u001b[34mreadr  \u001b[39m 2.0.1     \n",
      "\n",
      "── \u001b[1mConflicts\u001b[22m ────────────────────────────────────────── tidyverse_conflicts() ──\n",
      "\u001b[31m✖\u001b[39m \u001b[34mdplyr\u001b[39m::\u001b[32mfilter()\u001b[39m masks \u001b[34mstats\u001b[39m::filter()\n",
      "\u001b[31m✖\u001b[39m \u001b[34mdplyr\u001b[39m::\u001b[32mlag()\u001b[39m    masks \u001b[34mstats\u001b[39m::lag()\n",
      "\n"
     ]
    }
   ],
   "source": [
    "library(dplyr)\n",
    "library(tidyverse)\n",
    "library(tibble) "
   ]
  },
  {
   "cell_type": "markdown",
   "id": "f5880f08-d81a-4b14-94f0-a61f65a417c1",
   "metadata": {},
   "source": [
    "### Task 1: Data Transformation "
   ]
  },
  {
   "cell_type": "code",
   "execution_count": 9,
   "id": "4faa41cc-f9fa-4e1b-abab-92e1837e949b",
   "metadata": {},
   "outputs": [],
   "source": [
    "#input file\n",
    "CA_data=read.csv(\"/Users/apple/Desktop/Scraping_Practice/CA_spider/CA_data.csv\",header=T,skip=1)"
   ]
  },
  {
   "cell_type": "code",
   "execution_count": 10,
   "id": "d493e31a-717b-4af2-92e1-bc9cdab8529a",
   "metadata": {},
   "outputs": [],
   "source": [
    "#extract RTKs info for year 2019,2020,2021 & 2022(until May)\n",
    "RTK_ttl<-data.frame(CA_data[seq(1,1968,48),3])\n",
    "RTK_domestic<-data.frame(CA_data[seq(2,1968,48),3])\n",
    "RTK_internal<-data.frame(CA_data[seq(3,1968,48),3])\n",
    "RTK_regional<-data.frame(CA_data[seq(4,1968,48),3])\n",
    "Date<-c(seq(as.Date(\"2019/1/1\"), as.Date(\"2022/5/1\"), \"months\"))\n",
    "\n",
    "#combined Rows\n",
    "CA_RTK<-cbind(Date,RTK_ttl,RTK_domestic,RTK_internal,RTK_regional)\n",
    "\n",
    "#add colname to df\n",
    "colnames(CA_RTK)<- c(\"Date\",\"RTK_ttl\",\"RTK_domestic\",\"RTK_internal\",\"RTK_regional\")"
   ]
  },
  {
   "cell_type": "code",
   "execution_count": 14,
   "id": "9d6225f3-d4d0-4f70-a1cd-47332fb6821e",
   "metadata": {},
   "outputs": [
    {
     "data": {
      "text/html": [
       "<table class=\"dataframe\">\n",
       "<caption>A data.frame: 5 × 5</caption>\n",
       "<thead>\n",
       "\t<tr><th></th><th scope=col>Date</th><th scope=col>RTK_ttl</th><th scope=col>RTK_domestic</th><th scope=col>RTK_internal</th><th scope=col>RTK_regional</th></tr>\n",
       "\t<tr><th></th><th scope=col>&lt;date&gt;</th><th scope=col>&lt;chr&gt;</th><th scope=col>&lt;chr&gt;</th><th scope=col>&lt;chr&gt;</th><th scope=col>&lt;chr&gt;</th></tr>\n",
       "</thead>\n",
       "<tbody>\n",
       "\t<tr><th scope=row>1</th><td>2019-01-01</td><td>2066.235</td><td>1104.6</td><td>884.6</td><td>77.1</td></tr>\n",
       "\t<tr><th scope=row>2</th><td>2019-02-01</td><td>1895.1  </td><td>1066.7</td><td>755.5</td><td>72.9</td></tr>\n",
       "\t<tr><th scope=row>3</th><td>2019-03-01</td><td>2117.2  </td><td>1132.9</td><td>907.4</td><td>77  </td></tr>\n",
       "\t<tr><th scope=row>4</th><td>2019-04-01</td><td>2123.7  </td><td>1101  </td><td>941.3</td><td>81.4</td></tr>\n",
       "\t<tr><th scope=row>5</th><td>2019-05-01</td><td>2151.8  </td><td>1120.1</td><td>950.8</td><td>80.9</td></tr>\n",
       "</tbody>\n",
       "</table>\n"
      ],
      "text/latex": [
       "A data.frame: 5 × 5\n",
       "\\begin{tabular}{r|lllll}\n",
       "  & Date & RTK\\_ttl & RTK\\_domestic & RTK\\_internal & RTK\\_regional\\\\\n",
       "  & <date> & <chr> & <chr> & <chr> & <chr>\\\\\n",
       "\\hline\n",
       "\t1 & 2019-01-01 & 2066.235 & 1104.6 & 884.6 & 77.1\\\\\n",
       "\t2 & 2019-02-01 & 1895.1   & 1066.7 & 755.5 & 72.9\\\\\n",
       "\t3 & 2019-03-01 & 2117.2   & 1132.9 & 907.4 & 77  \\\\\n",
       "\t4 & 2019-04-01 & 2123.7   & 1101   & 941.3 & 81.4\\\\\n",
       "\t5 & 2019-05-01 & 2151.8   & 1120.1 & 950.8 & 80.9\\\\\n",
       "\\end{tabular}\n"
      ],
      "text/markdown": [
       "\n",
       "A data.frame: 5 × 5\n",
       "\n",
       "| <!--/--> | Date &lt;date&gt; | RTK_ttl &lt;chr&gt; | RTK_domestic &lt;chr&gt; | RTK_internal &lt;chr&gt; | RTK_regional &lt;chr&gt; |\n",
       "|---|---|---|---|---|---|\n",
       "| 1 | 2019-01-01 | 2066.235 | 1104.6 | 884.6 | 77.1 |\n",
       "| 2 | 2019-02-01 | 1895.1   | 1066.7 | 755.5 | 72.9 |\n",
       "| 3 | 2019-03-01 | 2117.2   | 1132.9 | 907.4 | 77   |\n",
       "| 4 | 2019-04-01 | 2123.7   | 1101   | 941.3 | 81.4 |\n",
       "| 5 | 2019-05-01 | 2151.8   | 1120.1 | 950.8 | 80.9 |\n",
       "\n"
      ],
      "text/plain": [
       "  Date       RTK_ttl  RTK_domestic RTK_internal RTK_regional\n",
       "1 2019-01-01 2066.235 1104.6       884.6        77.1        \n",
       "2 2019-02-01 1895.1   1066.7       755.5        72.9        \n",
       "3 2019-03-01 2117.2   1132.9       907.4        77          \n",
       "4 2019-04-01 2123.7   1101         941.3        81.4        \n",
       "5 2019-05-01 2151.8   1120.1       950.8        80.9        "
      ]
     },
     "metadata": {},
     "output_type": "display_data"
    }
   ],
   "source": [
    "head(CA_RTK,5)\n",
    "#export to csv\n",
    "write.csv(CA_RTK,\"CA_RTK.csv\", row.names = FALSE)"
   ]
  },
  {
   "cell_type": "code",
   "execution_count": 12,
   "id": "957db9d4-6b89-4cd6-8e3b-7d31e8ca5fd8",
   "metadata": {},
   "outputs": [],
   "source": [
    "#extract RPKs info for year 2019,2020,2021 & 2022(until May)\n",
    "RPK_ttl<-data.frame(CA_data[seq(5,1968,48),3])\n",
    "RPK_domestic<-data.frame(CA_data[seq(6,1968,48),3])\n",
    "RPK_internal<-data.frame(CA_data[seq(7,1968,48),3])\n",
    "RPK_regional<-data.frame(CA_data[seq(8,1968,48),3])\n",
    "Date<-c(seq(as.Date(\"2019/1/1\"), as.Date(\"2022/5/1\"), \"months\"))\n",
    "\n",
    "#combined Rows\n",
    "CA_RPK<-cbind(Date,RPK_ttl,RPK_domestic,RPK_internal,RPK_regional)\n",
    "\n",
    "#add colname to df\n",
    "colnames(CA_RPK)<- c(\"Date\",\"RPK_ttl\",\"RPK_domestic\",\"RPK_internal\",\"RPK_regional\")\n"
   ]
  },
  {
   "cell_type": "code",
   "execution_count": 16,
   "id": "151e22d6-6671-4327-a9cc-2858e5f69dd5",
   "metadata": {},
   "outputs": [
    {
     "data": {
      "text/html": [
       "<table class=\"dataframe\">\n",
       "<caption>A data.frame: 5 × 5</caption>\n",
       "<thead>\n",
       "\t<tr><th></th><th scope=col>Date</th><th scope=col>RPK_ttl</th><th scope=col>RPK_domestic</th><th scope=col>RPK_internal</th><th scope=col>RPK_regional</th></tr>\n",
       "\t<tr><th></th><th scope=col>&lt;date&gt;</th><th scope=col>&lt;chr&gt;</th><th scope=col>&lt;chr&gt;</th><th scope=col>&lt;chr&gt;</th><th scope=col>&lt;chr&gt;</th></tr>\n",
       "</thead>\n",
       "<tbody>\n",
       "\t<tr><th scope=row>1</th><td>2019-01-01</td><td>18930.6</td><td>10960.5</td><td>7216.3</td><td>753.7</td></tr>\n",
       "\t<tr><th scope=row>2</th><td>2019-02-01</td><td>18700.6</td><td>11410.8</td><td>6545.3</td><td>744.5</td></tr>\n",
       "\t<tr><th scope=row>3</th><td>2019-03-01</td><td>19117.4</td><td>11237.8</td><td>7140.2</td><td>739.4</td></tr>\n",
       "\t<tr><th scope=row>4</th><td>2019-04-01</td><td>19224.8</td><td>10961.3</td><td>7473  </td><td>790.5</td></tr>\n",
       "\t<tr><th scope=row>5</th><td>2019-05-01</td><td>19399.9</td><td>11179.4</td><td>7440.2</td><td>780.4</td></tr>\n",
       "</tbody>\n",
       "</table>\n"
      ],
      "text/latex": [
       "A data.frame: 5 × 5\n",
       "\\begin{tabular}{r|lllll}\n",
       "  & Date & RPK\\_ttl & RPK\\_domestic & RPK\\_internal & RPK\\_regional\\\\\n",
       "  & <date> & <chr> & <chr> & <chr> & <chr>\\\\\n",
       "\\hline\n",
       "\t1 & 2019-01-01 & 18930.6 & 10960.5 & 7216.3 & 753.7\\\\\n",
       "\t2 & 2019-02-01 & 18700.6 & 11410.8 & 6545.3 & 744.5\\\\\n",
       "\t3 & 2019-03-01 & 19117.4 & 11237.8 & 7140.2 & 739.4\\\\\n",
       "\t4 & 2019-04-01 & 19224.8 & 10961.3 & 7473   & 790.5\\\\\n",
       "\t5 & 2019-05-01 & 19399.9 & 11179.4 & 7440.2 & 780.4\\\\\n",
       "\\end{tabular}\n"
      ],
      "text/markdown": [
       "\n",
       "A data.frame: 5 × 5\n",
       "\n",
       "| <!--/--> | Date &lt;date&gt; | RPK_ttl &lt;chr&gt; | RPK_domestic &lt;chr&gt; | RPK_internal &lt;chr&gt; | RPK_regional &lt;chr&gt; |\n",
       "|---|---|---|---|---|---|\n",
       "| 1 | 2019-01-01 | 18930.6 | 10960.5 | 7216.3 | 753.7 |\n",
       "| 2 | 2019-02-01 | 18700.6 | 11410.8 | 6545.3 | 744.5 |\n",
       "| 3 | 2019-03-01 | 19117.4 | 11237.8 | 7140.2 | 739.4 |\n",
       "| 4 | 2019-04-01 | 19224.8 | 10961.3 | 7473   | 790.5 |\n",
       "| 5 | 2019-05-01 | 19399.9 | 11179.4 | 7440.2 | 780.4 |\n",
       "\n"
      ],
      "text/plain": [
       "  Date       RPK_ttl RPK_domestic RPK_internal RPK_regional\n",
       "1 2019-01-01 18930.6 10960.5      7216.3       753.7       \n",
       "2 2019-02-01 18700.6 11410.8      6545.3       744.5       \n",
       "3 2019-03-01 19117.4 11237.8      7140.2       739.4       \n",
       "4 2019-04-01 19224.8 10961.3      7473         790.5       \n",
       "5 2019-05-01 19399.9 11179.4      7440.2       780.4       "
      ]
     },
     "metadata": {},
     "output_type": "display_data"
    }
   ],
   "source": [
    "head(CA_RPK,5)\n",
    "write.csv(CA_RPK,\"CA_RPK.csv\", row.names = FALSE)"
   ]
  },
  {
   "cell_type": "code",
   "execution_count": null,
   "id": "816e1104-7610-4a34-b19a-4f1c79c6e20c",
   "metadata": {},
   "outputs": [],
   "source": []
  }
 ],
 "metadata": {
  "kernelspec": {
   "display_name": "R [conda env:R]",
   "language": "R",
   "name": "conda-env-R-r"
  },
  "language_info": {
   "codemirror_mode": "r",
   "file_extension": ".r",
   "mimetype": "text/x-r-source",
   "name": "R",
   "pygments_lexer": "r",
   "version": "4.1.1"
  }
 },
 "nbformat": 4,
 "nbformat_minor": 5
}
